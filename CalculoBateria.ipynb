{
  "nbformat": 4,
  "nbformat_minor": 0,
  "metadata": {
    "colab": {
      "provenance": [],
      "include_colab_link": true
    },
    "kernelspec": {
      "name": "python3",
      "display_name": "Python 3"
    },
    "language_info": {
      "name": "python"
    }
  },
  "cells": [
    {
      "cell_type": "markdown",
      "metadata": {
        "id": "view-in-github",
        "colab_type": "text"
      },
      "source": [
        "<a href=\"https://colab.research.google.com/github/scarletsnchez22/Proyecto_G5_ESTG1034/blob/main/CalculoBateria.ipynb\" target=\"_parent\"><img src=\"https://colab.research.google.com/assets/colab-badge.svg\" alt=\"Open In Colab\"/></a>"
      ]
    },
    {
      "cell_type": "code",
      "source": [
        "# 11 KG --> 1400 mah\n",
        "consumo_max_motor = 1400 #mAh\n",
        "kg_max = 11 #kg\n",
        "kg_sostener = 6 #kg\n",
        "\n",
        "factor_con_mot = consumo_max_motor/kg_max\n",
        "\n",
        "consumo_mot = kg_sostener * factor_con_mot\n",
        "consumo_mot_r = round(consumo_mot, 3)\n",
        "print(f\"La capacidad debería ser: {consumo_mot_r} mAh\")"
      ],
      "metadata": {
        "colab": {
          "base_uri": "https://localhost:8080/"
        },
        "id": "kpeB8NReNRA2",
        "outputId": "bfe01a5d-b6d8-4574-a526-c2091be2a93f"
      },
      "execution_count": null,
      "outputs": [
        {
          "output_type": "stream",
          "name": "stdout",
          "text": [
            "La capacidad debería ser: 763.636 mAh\n"
          ]
        }
      ]
    },
    {
      "cell_type": "code",
      "execution_count": null,
      "metadata": {
        "colab": {
          "base_uri": "https://localhost:8080/"
        },
        "id": "cX2j8w5HJ80W",
        "outputId": "44421a95-330a-4635-e500-7083c06c75eb"
      },
      "outputs": [
        {
          "output_type": "stream",
          "name": "stdout",
          "text": [
            "La capacidad debería ser: 15880.682 mAh\n"
          ]
        }
      ],
      "source": [
        "# Definiendo los valores\n",
        "consumo_motor_mA = consumo_mot  # Consumo por motor en mA\n",
        "numero_motores = 3\n",
        "consumo_esp32_mA = 250  # Consumo ESP32 en mA\n",
        "tiempo_operacion_horas = 5\n",
        "eficiencia = 0.8\n",
        "\n",
        "# Calculando la capacidad necesaria\n",
        "capacidad_bateria_mAh = ((consumo_motor_mA * numero_motores + consumo_esp32_mA) * tiempo_operacion_horas) / eficiencia\n",
        "\n",
        "# Ajustando el valor de la capacidad de la batería a 3 decimales\n",
        "capacidad_bateria_mAh_ajustada = round(capacidad_bateria_mAh, 3)\n",
        "\n",
        "# Imprimiendo el resultado con 3 decimales\n",
        "print(f\"La capacidad debería ser: {capacidad_bateria_mAh_ajustada} mAh\")\n"
      ]
    }
  ]
}